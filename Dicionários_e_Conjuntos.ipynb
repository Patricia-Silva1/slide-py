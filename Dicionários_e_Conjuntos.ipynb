{
  "cells": [
    {
      "cell_type": "markdown",
      "metadata": {
        "id": "Fwoup6Cng0Q7"
      },
      "source": [
        "# Mais sobre contâiners"
      ]
    },
    {
      "cell_type": "markdown",
      "metadata": {
        "id": "3QbiLy1ZntGY"
      },
      "source": [
        "## Dicionários"
      ]
    },
    {
      "cell_type": "markdown",
      "metadata": {
        "id": "GCOtVup3v_XY"
      },
      "source": [
        "### Introdução"
      ]
    },
    {
      "cell_type": "markdown",
      "metadata": {
        "id": "fOFvmXFitozh"
      },
      "source": [
        "_Mapping objects_ mapeiam valores _hasheáveis_ para objetos arbitrários. \n",
        "\n",
        "Mapeamentos são objetos mutáveis. Atualmente, existe apenas um tipo de mapeamento padrão que é o __dicionário__.\n",
        "\n",
        "__ATENÇÃO__ : as chaves de um dicionário são quase valores arbitrários. \n",
        "\n",
        "Valores que não são _hasheáveis_, isto é, valores contendo listas, dicionários ou outros tipos mutáveis - que são comparados por valor ao invés de por identidade do objeto - __NÃO DEVEM__ ser usados como chaves.\n",
        "\n",
        "__OBS__: números de ponto flutuante são armazenados como aproximações, usualmente não é uma boa ideia utilizá-los como chaves para dicionários."
      ]
    },
    {
      "cell_type": "markdown",
      "metadata": {
        "id": "s-zpdIS6nsTI"
      },
      "source": [
        "### A Classe Dict"
      ]
    },
    {
      "cell_type": "markdown",
      "metadata": {
        "id": "-L2JAnQowHj6"
      },
      "source": [
        "Esta classe retorna um novo dicionário inicializado a partir de um argumento posicional opcional, e um conjunto de argumentos nomeados possivelmente vazio.\n",
        "\n",
        "Os dicionários, assim como vimos nas listas e tuplas, podem ser criados de várias formas:\n",
        "\n",
        "* Usando uma lista de pares `key: value` separados por vírgula e dentro de um par de chaves \n",
        "\n",
        "  Ex: `{'turma': 713, 'módulo': 'Python'}`\n",
        "\n",
        "* Usando dict comprehension\n",
        "\n",
        "  Ex: `{num: num * 10 for num in range(1,11)}`\n",
        "\n",
        "* Usando o construtor dict()\n",
        "\n",
        "  Ex1: Para um dicionário vazio : `dict()`\n",
        "\n",
        "  Ex2: `dict([('turma', 718), ('módulo', 'Python')])`\n",
        "\n",
        "  Ex3: `dict(turma=713, módulo='Python')`\n",
        "\n",
        "__OBS__ nº1: se a chave ocorrer mais de uma vez, o último valor para aquela chave torna-se o valor correspondente no novo dicionário\n",
        "\n",
        "__OBS__ nº2: quando os argumentos nomeados forem passados, seus valores são adicionados ao dicionário criado a partir do argumento posicional\n",
        "\n",
        "__OBS__ nº3: se uma chave que está sendo adicionada já estiver presente, o valor do argumento nomeado substitui o valor do argumento posicional\n",
        "\n",
        "`dados = dict({'nome': 'Rafael', 'idade': 46}, nome='Camila')`"
      ]
    },
    {
      "cell_type": "markdown",
      "metadata": {
        "id": "obkU3M7Ip3aE"
      },
      "source": [
        "### Operações suportadas"
      ]
    },
    {
      "cell_type": "code",
      "execution_count": null,
      "metadata": {
        "id": "RX0l-r02rqET"
      },
      "outputs": [],
      "source": [
        "dados = {\n",
        "    'nome': 'Rafael',\n",
        "    'sobrenome': 'Puyau',\n",
        "    'idade': 45,\n",
        "    'email': 'puyau@proton.me',\n",
        "    'linguagens': ['Python', 'R', 'SQL']\n",
        "}"
      ]
    },
    {
      "cell_type": "code",
      "execution_count": null,
      "metadata": {
        "colab": {
          "base_uri": "https://localhost:8080/"
        },
        "id": "lWllsG2YIJg4",
        "outputId": "7208e8d8-47b1-4102-a5e4-e75092529cb2"
      },
      "outputs": [
        {
          "data": {
            "text/plain": [
              "{'nome': 'Rafael',\n",
              " 'sobrenome': 'Puyau',\n",
              " 'idade': 45,\n",
              " 'email': 'puyau@proton.me',\n",
              " 'linguagens': ['Python', 'R', 'SQL']}"
            ]
          },
          "execution_count": 2,
          "metadata": {},
          "output_type": "execute_result"
        }
      ],
      "source": [
        "dados"
      ]
    },
    {
      "cell_type": "markdown",
      "metadata": {
        "id": "6pVwxDKuq4wi"
      },
      "source": [
        "#### list"
      ]
    },
    {
      "cell_type": "markdown",
      "metadata": {
        "id": "AHZIL4Sdq_fO"
      },
      "source": [
        "Retorna uma lista de todas as chaves usadas no dicionário em questão\n",
        "\n",
        "__SINTAXE__\n",
        "\n",
        "`list(nome_dicionario)`"
      ]
    },
    {
      "cell_type": "code",
      "execution_count": null,
      "metadata": {
        "colab": {
          "base_uri": "https://localhost:8080/"
        },
        "id": "Ps7N2sC1rawM",
        "outputId": "28ebdba8-cafc-4449-9eab-c5fc585f97a8"
      },
      "outputs": [
        {
          "data": {
            "text/plain": [
              "['nome', 'sobrenome', 'idade', 'email', 'linguagens']"
            ]
          },
          "execution_count": 3,
          "metadata": {},
          "output_type": "execute_result"
        }
      ],
      "source": [
        "list(dados)"
      ]
    },
    {
      "cell_type": "markdown",
      "metadata": {
        "id": "G_K5LTajsagl"
      },
      "source": [
        "#### len"
      ]
    },
    {
      "cell_type": "markdown",
      "metadata": {
        "id": "7i0RkyIZscv-"
      },
      "source": [
        "Retorna o número de itens de um dicionário\n",
        "\n",
        "__SINTAXE__\n",
        "\n",
        "`len(nome_dicionario)`"
      ]
    },
    {
      "cell_type": "code",
      "execution_count": null,
      "metadata": {
        "colab": {
          "base_uri": "https://localhost:8080/"
        },
        "id": "mzsydxmKsh4T",
        "outputId": "e5cb7ec1-0ffd-417f-ce62-39a4872102ff"
      },
      "outputs": [
        {
          "data": {
            "text/plain": [
              "5"
            ]
          },
          "execution_count": 4,
          "metadata": {},
          "output_type": "execute_result"
        }
      ],
      "source": [
        "len(dados)"
      ]
    },
    {
      "cell_type": "markdown",
      "metadata": {
        "id": "_-pMMIsjs1J9"
      },
      "source": [
        "#### dicionario[chave]"
      ]
    },
    {
      "cell_type": "markdown",
      "metadata": {
        "id": "FualJMD4s5NO"
      },
      "source": [
        "Retorna o item do dicionário da chave especificada entre colchetes.\n",
        "\n",
        "Caso essa chave não exista no dicionário, uma exceção do tipo _KeyError_ será levantada\n",
        "\n",
        "__SINTAXE__\n",
        "\n",
        "`dicionario[chave]`"
      ]
    },
    {
      "cell_type": "code",
      "execution_count": null,
      "metadata": {
        "colab": {
          "base_uri": "https://localhost:8080/",
          "height": 35
        },
        "id": "N1cIO24UtrTG",
        "outputId": "3efc9db9-07f3-497d-a5a6-3d00a99e32dc"
      },
      "outputs": [
        {
          "data": {
            "application/vnd.google.colaboratory.intrinsic+json": {
              "type": "string"
            },
            "text/plain": [
              "'Rafael'"
            ]
          },
          "execution_count": 5,
          "metadata": {},
          "output_type": "execute_result"
        }
      ],
      "source": [
        "dados['nome']"
      ]
    },
    {
      "cell_type": "code",
      "execution_count": null,
      "metadata": {
        "colab": {
          "base_uri": "https://localhost:8080/",
          "height": 167
        },
        "id": "tZCTyWJ-JEaR",
        "outputId": "621074c8-8551-4825-d001-9f1e57c00511"
      },
      "outputs": [
        {
          "ename": "KeyError",
          "evalue": "ignored",
          "output_type": "error",
          "traceback": [
            "\u001b[0;31m---------------------------------------------------------------------------\u001b[0m",
            "\u001b[0;31mKeyError\u001b[0m                                  Traceback (most recent call last)",
            "\u001b[0;32m<ipython-input-6-f9a1ba8c1caa>\u001b[0m in \u001b[0;36m<module>\u001b[0;34m\u001b[0m\n\u001b[0;32m----> 1\u001b[0;31m \u001b[0mdados\u001b[0m\u001b[0;34m[\u001b[0m\u001b[0;34m'salario'\u001b[0m\u001b[0;34m]\u001b[0m\u001b[0;34m\u001b[0m\u001b[0;34m\u001b[0m\u001b[0m\n\u001b[0m",
            "\u001b[0;31mKeyError\u001b[0m: 'salario'"
          ]
        }
      ],
      "source": [
        "dados['salario']"
      ]
    },
    {
      "cell_type": "markdown",
      "metadata": {
        "id": "3iwv5mzWt28n"
      },
      "source": [
        "#### dicionario[chave] = valor"
      ]
    },
    {
      "cell_type": "markdown",
      "metadata": {
        "id": "kAOnNbs7uGkF"
      },
      "source": [
        "Define um valor para a chave especificada entre colchetes, porém, atente para:\n",
        "\n",
        "* se a chave já existir no dicionário, terá seu valor sobreescrito\n",
        "\n",
        "* se a chave ainda não existir no dicionário, esta será criada e o valor será atribuído a ela\n",
        "\n",
        "__SINTAXE__\n",
        "\n",
        "`dicionario[chave] = valor`"
      ]
    },
    {
      "cell_type": "code",
      "execution_count": null,
      "metadata": {
        "colab": {
          "base_uri": "https://localhost:8080/"
        },
        "id": "X1jHZHVCuv9b",
        "outputId": "9ba02bf6-40ff-4560-df24-05106b9042b3"
      },
      "outputs": [
        {
          "name": "stdout",
          "output_type": "stream",
          "text": [
            "45\n",
            "46\n"
          ]
        }
      ],
      "source": [
        "print(dados['idade'])\n",
        "\n",
        "dados['idade'] = 46\n",
        "\n",
        "print(dados['idade'])"
      ]
    },
    {
      "cell_type": "code",
      "execution_count": null,
      "metadata": {
        "colab": {
          "base_uri": "https://localhost:8080/"
        },
        "id": "Noegz5gBvrCV",
        "outputId": "8f87f8f5-9112-4fb6-ed52-43f8f83356d5"
      },
      "outputs": [
        {
          "name": "stdout",
          "output_type": "stream",
          "text": [
            "{'nome': 'Rafael', 'sobrenome': 'Puyau', 'idade': 46, 'email': 'puyau@proton.me', 'linguagens': ['Python', 'R', 'SQL']}\n",
            "{'nome': 'Rafael', 'sobrenome': 'Puyau', 'idade': 46, 'email': 'puyau@proton.me', 'linguagens': ['Python', 'R', 'SQL'], 'empresa': 'Wilson Sons'}\n"
          ]
        }
      ],
      "source": [
        "print(dados)\n",
        "\n",
        "dados['empresa'] = 'Wilson Sons'\n",
        "\n",
        "print(dados)"
      ]
    },
    {
      "cell_type": "markdown",
      "metadata": {
        "id": "2N4c-kyyv8Z-"
      },
      "source": [
        "#### del dicionario[chave]"
      ]
    },
    {
      "cell_type": "markdown",
      "metadata": {
        "id": "AWvqlQX2v_0t"
      },
      "source": [
        "Remove a chave e seu respectivo valor do dicionario.\n",
        "\n",
        "Caso a chave não exista no dicionário, uma exceção _KeyError_ será levantada\n",
        "\n",
        "__SINTAXE__\n",
        "\n",
        "`del dicionario[chave]`"
      ]
    },
    {
      "cell_type": "code",
      "execution_count": null,
      "metadata": {
        "colab": {
          "base_uri": "https://localhost:8080/"
        },
        "id": "qRvO5osbwvg7",
        "outputId": "abb2fca7-1e10-4e71-d633-a3910a899bc7"
      },
      "outputs": [
        {
          "name": "stdout",
          "output_type": "stream",
          "text": [
            "{'nome': 'Rafael', 'sobrenome': 'Puyau', 'idade': 46, 'email': 'puyau@proton.me', 'linguagens': ['Python', 'R', 'SQL'], 'empresa': 'Wilson Sons'}\n",
            "{'nome': 'Rafael', 'sobrenome': 'Puyau', 'idade': 46, 'email': 'puyau@proton.me', 'linguagens': ['Python', 'R', 'SQL']}\n"
          ]
        }
      ],
      "source": [
        "print(dados)\n",
        "\n",
        "del dados['empresa']\n",
        "\n",
        "print(dados)"
      ]
    },
    {
      "cell_type": "code",
      "execution_count": null,
      "metadata": {
        "colab": {
          "base_uri": "https://localhost:8080/",
          "height": 219
        },
        "id": "4l6Arvb1w7OY",
        "outputId": "6129b6eb-987c-4eb0-8ea6-d12a5a780167"
      },
      "outputs": [
        {
          "name": "stdout",
          "output_type": "stream",
          "text": [
            "{'nome': 'Rafael', 'sobrenome': 'Puyau', 'idade': 46, 'email': 'puyau@proton.me', 'linguagens': ['Python', 'R', 'SQL']}\n"
          ]
        },
        {
          "ename": "KeyError",
          "evalue": "ignored",
          "output_type": "error",
          "traceback": [
            "\u001b[0;31m---------------------------------------------------------------------------\u001b[0m",
            "\u001b[0;31mKeyError\u001b[0m                                  Traceback (most recent call last)",
            "\u001b[0;32m<ipython-input-10-b4abdfc00dbf>\u001b[0m in \u001b[0;36m<module>\u001b[0;34m\u001b[0m\n\u001b[1;32m      1\u001b[0m \u001b[0mprint\u001b[0m\u001b[0;34m(\u001b[0m\u001b[0mdados\u001b[0m\u001b[0;34m)\u001b[0m\u001b[0;34m\u001b[0m\u001b[0;34m\u001b[0m\u001b[0m\n\u001b[1;32m      2\u001b[0m \u001b[0;34m\u001b[0m\u001b[0m\n\u001b[0;32m----> 3\u001b[0;31m \u001b[0;32mdel\u001b[0m \u001b[0mdados\u001b[0m\u001b[0;34m[\u001b[0m\u001b[0;34m'empresa'\u001b[0m\u001b[0;34m]\u001b[0m\u001b[0;34m\u001b[0m\u001b[0;34m\u001b[0m\u001b[0m\n\u001b[0m",
            "\u001b[0;31mKeyError\u001b[0m: 'empresa'"
          ]
        }
      ],
      "source": [
        "print(dados)\n",
        "\n",
        "del dados['empresa']"
      ]
    },
    {
      "cell_type": "markdown",
      "metadata": {
        "id": "CBVEtNLDxleC"
      },
      "source": [
        "#### chave in dicionario"
      ]
    },
    {
      "cell_type": "markdown",
      "metadata": {
        "id": "kCj-t5zzxpG7"
      },
      "source": [
        "Retorna _True_ se a chave for encontrada no dicionário, senão retornará _False_\n",
        "\n",
        "__SINTAXE__\n",
        "\n",
        "`chave in dicionario`"
      ]
    },
    {
      "cell_type": "code",
      "execution_count": null,
      "metadata": {
        "colab": {
          "base_uri": "https://localhost:8080/"
        },
        "id": "HYwVtQvXywRg",
        "outputId": "ef318ff7-0e47-4ccc-b28e-dca2cfdf4122"
      },
      "outputs": [
        {
          "data": {
            "text/plain": [
              "True"
            ]
          },
          "execution_count": 11,
          "metadata": {},
          "output_type": "execute_result"
        }
      ],
      "source": [
        "'sobrenome' in dados"
      ]
    },
    {
      "cell_type": "code",
      "execution_count": null,
      "metadata": {
        "colab": {
          "base_uri": "https://localhost:8080/"
        },
        "id": "9cFtGJApy0lY",
        "outputId": "a706bd48-935d-49da-f8ba-28a35a272b4e"
      },
      "outputs": [
        {
          "data": {
            "text/plain": [
              "False"
            ]
          },
          "execution_count": 12,
          "metadata": {},
          "output_type": "execute_result"
        }
      ],
      "source": [
        "'empresa' in dados"
      ]
    },
    {
      "cell_type": "markdown",
      "metadata": {
        "id": "CAV3AtNYy_w6"
      },
      "source": [
        "#### chave not in dicionario"
      ]
    },
    {
      "cell_type": "markdown",
      "metadata": {
        "id": "IYNQ3B7DzERV"
      },
      "source": [
        "Retorna _True_ se a chave __não__ for encontrada no dicionário, senão retornará _False_\n",
        "\n",
        "__SINTAXE__\n",
        "\n",
        "`chave not in dicionario`\n",
        "\n",
        "__Equivalência__: `not chave in dicionario`"
      ]
    },
    {
      "cell_type": "code",
      "execution_count": null,
      "metadata": {
        "colab": {
          "base_uri": "https://localhost:8080/"
        },
        "id": "2TLXzcu3zUnp",
        "outputId": "f132610e-fdc9-44d3-f0d2-ebc8385d30d1"
      },
      "outputs": [
        {
          "data": {
            "text/plain": [
              "True"
            ]
          },
          "execution_count": 13,
          "metadata": {},
          "output_type": "execute_result"
        }
      ],
      "source": [
        "'empresa' not in dados"
      ]
    },
    {
      "cell_type": "code",
      "execution_count": null,
      "metadata": {
        "colab": {
          "base_uri": "https://localhost:8080/"
        },
        "id": "VZ6b1SKbzYr5",
        "outputId": "49f10a4c-2e84-4d03-ddb7-db1d61304042"
      },
      "outputs": [
        {
          "data": {
            "text/plain": [
              "False"
            ]
          },
          "execution_count": 14,
          "metadata": {},
          "output_type": "execute_result"
        }
      ],
      "source": [
        "'email' not in dados"
      ]
    },
    {
      "cell_type": "markdown",
      "metadata": {
        "id": "mzWHm6Xjzqwe"
      },
      "source": [
        "#### iter(dicionario)"
      ]
    },
    {
      "cell_type": "markdown",
      "metadata": {
        "id": "SfL9izwY221v"
      },
      "source": [
        "Retorna um iterador para as chaves do dicionário. Isso é um atalho para `iter(dicionario.keys())`\n",
        "\n",
        "Retorna o mesmo que `dados.keys()`\n",
        "\n",
        "__SINTAXE__\n",
        "\n",
        "`iter(dicionario)`\n"
      ]
    },
    {
      "cell_type": "code",
      "execution_count": null,
      "metadata": {
        "colab": {
          "base_uri": "https://localhost:8080/"
        },
        "id": "gOS8DSNl3Qaz",
        "outputId": "8fda1fce-5819-4ef2-d2f5-9c25fb162279"
      },
      "outputs": [
        {
          "data": {
            "text/plain": [
              "<dict_keyiterator at 0x7f03de202c50>"
            ]
          },
          "execution_count": 15,
          "metadata": {},
          "output_type": "execute_result"
        }
      ],
      "source": [
        "iter(dados)"
      ]
    },
    {
      "cell_type": "code",
      "execution_count": null,
      "metadata": {
        "colab": {
          "base_uri": "https://localhost:8080/"
        },
        "id": "QH7_4yHh3t0G",
        "outputId": "6d0be396-221d-4471-a200-4763b2d5e4f0"
      },
      "outputs": [
        {
          "data": {
            "text/plain": [
              "['nome', 'sobrenome', 'idade', 'email', 'linguagens']"
            ]
          },
          "execution_count": 16,
          "metadata": {},
          "output_type": "execute_result"
        }
      ],
      "source": [
        "list(iter(dados))"
      ]
    },
    {
      "cell_type": "markdown",
      "metadata": {
        "id": "C6Br1kDM4BWt"
      },
      "source": [
        "#### clear( )"
      ]
    },
    {
      "cell_type": "markdown",
      "metadata": {
        "id": "NC7Z6YQ04DyE"
      },
      "source": [
        "Remove todos os itens do dicionário\n",
        "\n",
        "__SINTAXE__\n",
        "\n",
        "`dicionario.clear()`"
      ]
    },
    {
      "cell_type": "code",
      "execution_count": null,
      "metadata": {
        "colab": {
          "base_uri": "https://localhost:8080/"
        },
        "id": "fmYYI2Sf4TSI",
        "outputId": "3a58f72d-2d98-4c8d-f0d9-9a345ce66507"
      },
      "outputs": [
        {
          "name": "stdout",
          "output_type": "stream",
          "text": [
            "{'turma': 713, 'módulo': 'Python'}\n",
            "{}\n"
          ]
        }
      ],
      "source": [
        "dados_2 = {'turma': 713, 'módulo': 'Python'}\n",
        "print(dados_2)\n",
        "dados_2.clear()\n",
        "print(dados_2)"
      ]
    },
    {
      "cell_type": "markdown",
      "metadata": {
        "id": "ldFboDRk5B7i"
      },
      "source": [
        "#### copy( )"
      ]
    },
    {
      "cell_type": "markdown",
      "metadata": {
        "id": "JhNB8QLj5Edi"
      },
      "source": [
        "Retorna uma cópia do dicionário\n",
        "\n",
        "__SINTAXE__\n",
        "\n",
        "`dicionario.copy()`"
      ]
    },
    {
      "cell_type": "code",
      "execution_count": null,
      "metadata": {
        "colab": {
          "base_uri": "https://localhost:8080/"
        },
        "id": "A35NegFa5lR0",
        "outputId": "127c149d-a09a-44a0-ad16-ae92edc189bc"
      },
      "outputs": [
        {
          "name": "stdout",
          "output_type": "stream",
          "text": [
            "{'turma': 713, 'modulo': 'Python'}\n",
            "{'turma': 713, 'modulo': 'Python'}\n",
            "{'turma': 713, 'modulo': 'Python'} -------> {'turma': 718, 'modulo': 'Python'}\n"
          ]
        }
      ],
      "source": [
        "dados_1 = {'turma': 713, 'modulo': 'Python'}\n",
        "print(dados_1)\n",
        "dados_2 = dados_1.copy()\n",
        "print(dados_2)\n",
        "dados_2['turma'] = 718\n",
        "print(dados_1, dados_2, sep=' -------> ')"
      ]
    },
    {
      "cell_type": "markdown",
      "metadata": {
        "id": "HiRiOLpJ6rxI"
      },
      "source": [
        "#### fromkeys( )"
      ]
    },
    {
      "cell_type": "markdown",
      "metadata": {
        "id": "Q8uyvkPU6979"
      },
      "source": [
        "Cria um novo dicionário com as chaves provenientes do iterável e o valor definido em _value_\n",
        "\n",
        "`fromkeys()` é um método de classe que retorna um novo dicionário. _Value_ tem como valor padrão `None]`.\n",
        "\n",
        "Todos os valores irão se referir a apenas uma única instância.\n",
        "\n",
        "__SINTAXE__\n",
        "\n",
        "`dict.fromkeys(iteravel)`"
      ]
    },
    {
      "cell_type": "markdown",
      "metadata": {
        "id": "T2maW8z98fER"
      },
      "source": [
        "##### Exemplo 1"
      ]
    },
    {
      "cell_type": "code",
      "execution_count": null,
      "metadata": {
        "colab": {
          "base_uri": "https://localhost:8080/"
        },
        "id": "pi_q3Wnx8iur",
        "outputId": "f0dfb429-a8b0-4d28-f6fa-6c8461cccfc6"
      },
      "outputs": [
        {
          "data": {
            "text/plain": [
              "{'turma': None, 'modulo': None, 'horario': None}"
            ]
          },
          "execution_count": 19,
          "metadata": {},
          "output_type": "execute_result"
        }
      ],
      "source": [
        "minha_lista = ['turma', 'modulo', 'horario']\n",
        "dados = dict.fromkeys(minha_lista)\n",
        "dados"
      ]
    },
    {
      "cell_type": "markdown",
      "metadata": {
        "id": "Dd0p9BUQ846P"
      },
      "source": [
        "##### Exemplo 2"
      ]
    },
    {
      "cell_type": "code",
      "execution_count": null,
      "metadata": {
        "colab": {
          "base_uri": "https://localhost:8080/"
        },
        "id": "hgbhkFRj87yX",
        "outputId": "cde72829-95c3-42b2-8cee-ce9d2c976c83"
      },
      "outputs": [
        {
          "name": "stdout",
          "output_type": "stream",
          "text": [
            "{'turma': 713, 'modulo': 'Python', 'horario': '13:30 - 18:30'}\n",
            "{'turma': None, 'modulo': None, 'horario': None}\n"
          ]
        }
      ],
      "source": [
        "dados_1 = {\n",
        "    'turma': 713, \n",
        "    'modulo': 'Python', \n",
        "    'horario': '13:30 - 18:30'\n",
        "    }\n",
        "\n",
        "dados_2 = dict.fromkeys(dados_1)\n",
        "\n",
        "print(dados_1, dados_2, sep='\\n')"
      ]
    },
    {
      "cell_type": "markdown",
      "metadata": {
        "id": "IVi9EqCx9bE7"
      },
      "source": [
        "#### get(chave)"
      ]
    },
    {
      "cell_type": "markdown",
      "metadata": {
        "id": "EPO69WYT9srG"
      },
      "source": [
        "Retorna o valor para a chave especificada se esta existir no dicionário, senão será retornado um valor padrão definido. \n",
        "\n",
        "Caso este valor padrão não seja definido, será usado o valor padrão `None`. Isto quer dizer que este método não levantará uma exceção do tipo _KeyError_\n",
        "\n",
        "__SINTAXE__\n",
        "\n",
        "`dicionario.get(chave, 'mensagem')`"
      ]
    },
    {
      "cell_type": "code",
      "execution_count": null,
      "metadata": {
        "colab": {
          "base_uri": "https://localhost:8080/"
        },
        "id": "MB-1IjBX-QoK",
        "outputId": "638388f4-f627-462f-c681-3c08f046b887"
      },
      "outputs": [
        {
          "data": {
            "text/plain": [
              "[419, 713, 718]"
            ]
          },
          "execution_count": 36,
          "metadata": {},
          "output_type": "execute_result"
        }
      ],
      "source": [
        "dados_1 = {\n",
        "    'turma': [419, 713, 718], \n",
        "    'modulo': 'Python', \n",
        "    'horario': '18:30 - 21:30'\n",
        "    }\n",
        "\n",
        "dados_1.get('turma', 'turma não definida')"
      ]
    },
    {
      "cell_type": "code",
      "execution_count": null,
      "metadata": {
        "colab": {
          "base_uri": "https://localhost:8080/",
          "height": 35
        },
        "id": "1XpjwJov-hyS",
        "outputId": "9abd14e8-4c94-4cce-84e5-84317c270cd4"
      },
      "outputs": [
        {
          "data": {
            "application/vnd.google.colaboratory.intrinsic+json": {
              "type": "string"
            },
            "text/plain": [
              "'turma sem alunos ainda'"
            ]
          },
          "execution_count": 22,
          "metadata": {},
          "output_type": "execute_result"
        }
      ],
      "source": [
        "dados_1.get('alunos', 'turma sem alunos ainda')"
      ]
    },
    {
      "cell_type": "code",
      "execution_count": null,
      "metadata": {
        "colab": {
          "base_uri": "https://localhost:8080/"
        },
        "id": "pk3c7z9AFJa9",
        "outputId": "a7cf2e7e-59a3-43a2-c668-ac7e16e30dcc"
      },
      "outputs": [
        {
          "name": "stdout",
          "output_type": "stream",
          "text": [
            "None\n"
          ]
        }
      ],
      "source": [
        "print(dados_1.get('alunos'))"
      ]
    },
    {
      "cell_type": "markdown",
      "metadata": {
        "id": "S_BWEGZEDnBK"
      },
      "source": [
        "#### items( )"
      ]
    },
    {
      "cell_type": "markdown",
      "metadata": {
        "id": "CqF3CKwXDwpv"
      },
      "source": [
        "Retorna uma nova visão dos itens do dicionário, ou seja, uma lista de tuplas\n",
        "\n",
        "__SINTAXE__\n",
        "\n",
        "`dicionario.items()`"
      ]
    },
    {
      "cell_type": "code",
      "execution_count": null,
      "metadata": {
        "colab": {
          "base_uri": "https://localhost:8080/"
        },
        "id": "_JMyv_K_D5qu",
        "outputId": "074a2858-6643-4efe-c80b-db9d3d83f635"
      },
      "outputs": [
        {
          "data": {
            "text/plain": [
              "dict_items([('turma', [419, 713, 718]), ('modulo', 'Python'), ('horario', '18:30 - 21:30')])"
            ]
          },
          "execution_count": 25,
          "metadata": {},
          "output_type": "execute_result"
        }
      ],
      "source": [
        "dados_1.items()"
      ]
    },
    {
      "cell_type": "code",
      "execution_count": null,
      "metadata": {
        "colab": {
          "base_uri": "https://localhost:8080/"
        },
        "id": "TNomDKK9EFeU",
        "outputId": "d96f87e4-9946-453f-b9e1-0aecd9be18f1"
      },
      "outputs": [
        {
          "name": "stdout",
          "output_type": "stream",
          "text": [
            "turma ----- [419, 713, 718]\n",
            "modulo ----- Python\n",
            "horario ----- 18:30 - 21:30\n"
          ]
        }
      ],
      "source": [
        "for chave, valor in dados_1.items():\n",
        "  print(chave, valor, sep=' ----- ')"
      ]
    },
    {
      "cell_type": "markdown",
      "metadata": {
        "id": "YA_2njsdEK3t"
      },
      "source": [
        "#### keys( )"
      ]
    },
    {
      "cell_type": "markdown",
      "metadata": {
        "id": "aK8_5I01EOUb"
      },
      "source": [
        "Retorna uma nova visão das chaves do dicionário, ou seja, uma lista com os valores das chaves\n",
        "\n",
        "__SINTAXE__\n",
        "\n",
        "`dicionario.keys()`"
      ]
    },
    {
      "cell_type": "code",
      "execution_count": null,
      "metadata": {
        "colab": {
          "base_uri": "https://localhost:8080/"
        },
        "id": "tVUCLradEZ9r",
        "outputId": "94d500db-835b-40fc-e8ca-89958a4bbfc9"
      },
      "outputs": [
        {
          "data": {
            "text/plain": [
              "dict_keys(['turma', 'modulo', 'horario'])"
            ]
          },
          "execution_count": 29,
          "metadata": {},
          "output_type": "execute_result"
        }
      ],
      "source": [
        "dados_1.keys()"
      ]
    },
    {
      "cell_type": "code",
      "execution_count": null,
      "metadata": {
        "colab": {
          "base_uri": "https://localhost:8080/"
        },
        "id": "f8dqBUzYEyyu",
        "outputId": "2b5ffbcc-6a9f-4e39-e60d-15b5ecdcf717"
      },
      "outputs": [
        {
          "name": "stdout",
          "output_type": "stream",
          "text": [
            "[419, 713, 718]\n",
            "Python\n",
            "18:30 - 21:30\n"
          ]
        }
      ],
      "source": [
        "for chave in dados_1.keys():\n",
        "  print(dados_1[chave])"
      ]
    },
    {
      "cell_type": "markdown",
      "metadata": {
        "id": "Z-dUqyFvIJeY"
      },
      "source": [
        "#### pop(chave)"
      ]
    },
    {
      "cell_type": "markdown",
      "metadata": {
        "id": "-oW4eegEIPhW"
      },
      "source": [
        "Remove a chave se esta estiver no dicionário, senão retornará o valor padrão.\n",
        "\n",
        "Caso não seja passado um valor padrão e a chave não estiver no dicionário uma exceção do tipo _KeyError_ será levantada"
      ]
    },
    {
      "cell_type": "code",
      "execution_count": null,
      "metadata": {
        "colab": {
          "base_uri": "https://localhost:8080/",
          "height": 35
        },
        "id": "tQig1J1uIOcI",
        "outputId": "0ded2784-4e08-4bdc-971d-05ff626b58a8"
      },
      "outputs": [
        {
          "data": {
            "application/vnd.google.colaboratory.intrinsic+json": {
              "type": "string"
            },
            "text/plain": [
              "'18:30 - 21:30'"
            ]
          },
          "execution_count": 37,
          "metadata": {},
          "output_type": "execute_result"
        }
      ],
      "source": [
        "valor_removido = dados_1.pop('horario')\n",
        "valor_removido"
      ]
    },
    {
      "cell_type": "code",
      "execution_count": null,
      "metadata": {
        "colab": {
          "base_uri": "https://localhost:8080/"
        },
        "id": "RFZoG8YpRUUg",
        "outputId": "bec80825-de30-4bc9-a562-d611737cc592"
      },
      "outputs": [
        {
          "data": {
            "text/plain": [
              "dict_keys(['turma', 'modulo'])"
            ]
          },
          "execution_count": 38,
          "metadata": {},
          "output_type": "execute_result"
        }
      ],
      "source": [
        "dados_1.keys()"
      ]
    },
    {
      "cell_type": "code",
      "execution_count": null,
      "metadata": {
        "colab": {
          "base_uri": "https://localhost:8080/",
          "height": 35
        },
        "id": "8iqct98wI_aV",
        "outputId": "78a7b77c-167a-413f-cb06-831c35e5450c"
      },
      "outputs": [
        {
          "data": {
            "application/vnd.google.colaboratory.intrinsic+json": {
              "type": "string"
            },
            "text/plain": [
              "'chave não encontrada'"
            ]
          },
          "execution_count": 39,
          "metadata": {},
          "output_type": "execute_result"
        }
      ],
      "source": [
        "dados_1.pop('horario', 'chave não encontrada')"
      ]
    },
    {
      "cell_type": "code",
      "execution_count": null,
      "metadata": {
        "colab": {
          "base_uri": "https://localhost:8080/",
          "height": 167
        },
        "id": "DfDStIJkJFZA",
        "outputId": "77c65abf-74ab-4132-c090-e8146032605d"
      },
      "outputs": [
        {
          "ename": "KeyError",
          "evalue": "ignored",
          "output_type": "error",
          "traceback": [
            "\u001b[0;31m---------------------------------------------------------------------------\u001b[0m",
            "\u001b[0;31mKeyError\u001b[0m                                  Traceback (most recent call last)",
            "\u001b[0;32m<ipython-input-40-4ec4051ab430>\u001b[0m in \u001b[0;36m<module>\u001b[0;34m\u001b[0m\n\u001b[0;32m----> 1\u001b[0;31m \u001b[0mdados_1\u001b[0m\u001b[0;34m.\u001b[0m\u001b[0mpop\u001b[0m\u001b[0;34m(\u001b[0m\u001b[0;34m'horario'\u001b[0m\u001b[0;34m)\u001b[0m\u001b[0;34m\u001b[0m\u001b[0;34m\u001b[0m\u001b[0m\n\u001b[0m",
            "\u001b[0;31mKeyError\u001b[0m: 'horario'"
          ]
        }
      ],
      "source": [
        "dados_1.pop('horario')"
      ]
    },
    {
      "cell_type": "markdown",
      "metadata": {
        "id": "rwebc08bNzjP"
      },
      "source": [
        "#### values( )"
      ]
    },
    {
      "cell_type": "markdown",
      "metadata": {
        "id": "21dOlJp4N2jd"
      },
      "source": [
        "Retorna uma nova visão dos valores do dicionário, ou seja, uma lista com os valores.\n",
        "\n",
        "__SINTAXE__\n",
        "\n",
        "`dicionario.values()`"
      ]
    },
    {
      "cell_type": "code",
      "execution_count": null,
      "metadata": {
        "colab": {
          "base_uri": "https://localhost:8080/"
        },
        "id": "hUT38eMNOCcv",
        "outputId": "c9c15dc3-1d2d-4426-96a6-9607a7ad0955"
      },
      "outputs": [
        {
          "data": {
            "text/plain": [
              "dict_values([[419, 713, 718], 'Python'])"
            ]
          },
          "execution_count": 41,
          "metadata": {},
          "output_type": "execute_result"
        }
      ],
      "source": [
        "dados_1.values()"
      ]
    },
    {
      "cell_type": "markdown",
      "metadata": {
        "id": "bkP3851CP-ry"
      },
      "source": [
        "#### update( )"
      ]
    },
    {
      "cell_type": "markdown",
      "metadata": {
        "id": "iDDW6NIWQA-O"
      },
      "source": [
        "Atualiza o dicionário com os pares de chave e valor existente, sobrescrevendo as chaves existentes.\n",
        "\n",
        "Aceita como argumento outro dicionário ou um iterável de pares de chave e valor como as tuplas.\n",
        "\n",
        "__SINTAXE__\n",
        "\n",
        "`dicionario.update(dicionario2)`"
      ]
    },
    {
      "cell_type": "code",
      "execution_count": null,
      "metadata": {
        "colab": {
          "base_uri": "https://localhost:8080/"
        },
        "id": "a9vXgUY7Qaqv",
        "outputId": "3a480eee-caa7-455b-c722-065219a71cb1"
      },
      "outputs": [
        {
          "data": {
            "text/plain": [
              "{'turma': [419, 713, 718], 'modulo': 'Python', 'horario': '18:30 - 21:30'}"
            ]
          },
          "execution_count": 42,
          "metadata": {},
          "output_type": "execute_result"
        }
      ],
      "source": [
        "dados_1.update([('horario', '18:30 - 21:30')])\n",
        "dados_1"
      ]
    },
    {
      "cell_type": "code",
      "execution_count": null,
      "metadata": {
        "colab": {
          "base_uri": "https://localhost:8080/"
        },
        "id": "06kTHkSWQ0Q2",
        "outputId": "0952d886-aa65-49e3-c1b1-ae8b4d812182"
      },
      "outputs": [
        {
          "data": {
            "text/plain": [
              "{'horario': '18:30 - 21:30',\n",
              " 'modulo': 'Python',\n",
              " 'professor': 'Rafael Puyau',\n",
              " 'turma': 718}"
            ]
          },
          "execution_count": 79,
          "metadata": {},
          "output_type": "execute_result"
        }
      ],
      "source": [
        "dados_1.update({'professor': 'Rafael Puyau'})\n",
        "dados_1"
      ]
    },
    {
      "cell_type": "code",
      "execution_count": null,
      "metadata": {
        "colab": {
          "base_uri": "https://localhost:8080/"
        },
        "id": "_TLKvvZuR0qR",
        "outputId": "7a0c2a75-4364-430b-caaf-4346a842c747"
      },
      "outputs": [
        {
          "data": {
            "text/plain": [
              "{'horario': '18:30 - 21:30',\n",
              " 'instituicao': 'Infinity School',\n",
              " 'modulo': 'Python',\n",
              " 'professor': 'Rafael Puyau',\n",
              " 'turma': 718}"
            ]
          },
          "execution_count": 80,
          "metadata": {},
          "output_type": "execute_result"
        }
      ],
      "source": [
        "dados_1.update([['instituicao', 'Infinity School']])\n",
        "dados_1"
      ]
    },
    {
      "cell_type": "markdown",
      "metadata": {
        "id": "LXZlz1HfOhTq"
      },
      "source": [
        "## Conjuntos"
      ]
    },
    {
      "cell_type": "markdown",
      "metadata": {
        "id": "S7Z5SabkOk0I"
      },
      "source": [
        "Um objeto conjunto é uma coleção _não ordenada_ de objetos hasheáveis distintos.\n",
        "\n",
        "Usos comuns incluem testes de associação, __remover duplicatas__ de uma sequência e computar operações matemáticas tais como interseção, união, diferença e diferença simétrica.\n",
        "\n",
        "Sendo uma coleção não ordenada, conjuntos noão armazenam posição de elementos ou ordem de inserção. Portanto, conjuntos não suportam indexação, fatiamento ou outros comportamentos de sequências ou similares.\n",
        "\n",
        "O tipo _set_ é mutável - o conteúdo pode ser alterado usando métodos como `add()` e `remove()`. "
      ]
    },
    {
      "cell_type": "markdown",
      "metadata": {
        "id": "D1p6TtL_Wz-F"
      },
      "source": [
        "Conjuntos podem ser criados de várias formas como:\n",
        "\n",
        "* Usar uma lista de elementos separados por vírgulas entre chaves\n",
        "\n",
        "  Ex: `{'Python', 'SQL'}`\n",
        "\n",
        "* Usar uma compreensão de conjunto \n",
        "\n",
        "  Ex: `{letra for letra in 'rafael' if letra not in 'aeiou'}`\n",
        "\n",
        "* Usar o construtor\n",
        "\n",
        "  Ex: `set()` ou `set('infinity')` ou `set([713, 718, 'python'])`\n",
        "\n",
        "\n",
        "__OBS__ : elementos de conjuntos, assim como as chaves de dicionário, devem ser _hasháveis_"
      ]
    },
    {
      "cell_type": "markdown",
      "metadata": {
        "id": "UyD1i8k01znQ"
      },
      "source": [
        "### Operações suportadas"
      ]
    },
    {
      "cell_type": "markdown",
      "metadata": {
        "id": "dwK2PmsD2Bmz"
      },
      "source": [
        "#### len"
      ]
    },
    {
      "cell_type": "markdown",
      "metadata": {
        "id": "WNM6Ljz12E30"
      },
      "source": [
        "Retorna o número de elementos no _set_.\n",
        "\n",
        "__SINTAXE__\n",
        "\n",
        "`len(conjunto)`"
      ]
    },
    {
      "cell_type": "code",
      "execution_count": null,
      "metadata": {
        "colab": {
          "base_uri": "https://localhost:8080/"
        },
        "id": "66mv5uV62X6h",
        "outputId": "0cec8b54-e78a-428c-a3b2-c4ddeaafe43d"
      },
      "outputs": [
        {
          "data": {
            "text/plain": [
              "5"
            ]
          },
          "execution_count": 40,
          "metadata": {},
          "output_type": "execute_result"
        }
      ],
      "source": [
        "turmas = {315, 319, 419, 713, 718}\n",
        "len(turmas)"
      ]
    },
    {
      "cell_type": "markdown",
      "metadata": {
        "id": "muIFcLqL2pRs"
      },
      "source": [
        "#### in"
      ]
    },
    {
      "cell_type": "markdown",
      "metadata": {
        "id": "tJgibTFe2q9A"
      },
      "source": [
        "Testa se um elemento pertence ao conjunto. Retorna _True_ se o elemento for encontrado, senão retornará _False_\n",
        "\n",
        "__SINTAXE__\n",
        "\n",
        "`elemento in conjunto`"
      ]
    },
    {
      "cell_type": "code",
      "execution_count": null,
      "metadata": {
        "colab": {
          "base_uri": "https://localhost:8080/"
        },
        "id": "cnTEaDa72z-k",
        "outputId": "05601c15-23f3-471e-9d78-0b144ec7f867"
      },
      "outputs": [
        {
          "data": {
            "text/plain": [
              "True"
            ]
          },
          "execution_count": 41,
          "metadata": {},
          "output_type": "execute_result"
        }
      ],
      "source": [
        "713 in turmas"
      ]
    },
    {
      "cell_type": "markdown",
      "metadata": {
        "id": "YdakjrdZ27gB"
      },
      "source": [
        "#### not in"
      ]
    },
    {
      "cell_type": "markdown",
      "metadata": {
        "id": "LQ-nMVpA2-Sp"
      },
      "source": [
        "Testa se um elemento não pertence ao conjunto. Retorna _True_ se o elemento __não__ estiver no conjunto, caso contrário, retornará _False_\n",
        "\n",
        "__SINTAXE__\n",
        "\n",
        "`elemento not in conjunto`"
      ]
    },
    {
      "cell_type": "code",
      "execution_count": null,
      "metadata": {
        "colab": {
          "base_uri": "https://localhost:8080/"
        },
        "id": "Slnj_Q2S3Jy3",
        "outputId": "774c601e-7a59-478a-ead8-d85f5c5ad04e"
      },
      "outputs": [
        {
          "data": {
            "text/plain": [
              "False"
            ]
          },
          "execution_count": 42,
          "metadata": {},
          "output_type": "execute_result"
        }
      ],
      "source": [
        "713 not in turmas"
      ]
    },
    {
      "cell_type": "markdown",
      "metadata": {
        "id": "eAGfqGDG4Cpu"
      },
      "source": [
        "#### copy( )"
      ]
    },
    {
      "cell_type": "markdown",
      "metadata": {
        "id": "mhxMM_e74Hj4"
      },
      "source": [
        "Retorna uma cópia do conjunto\n",
        "\n",
        "__SINTAXE__\n",
        "\n",
        "`conjunto_2 = conjunto_1.copy()`"
      ]
    },
    {
      "cell_type": "code",
      "execution_count": null,
      "metadata": {
        "colab": {
          "base_uri": "https://localhost:8080/"
        },
        "id": "HN_NfnUo5jwu",
        "outputId": "adb29d26-5357-4af5-bab7-7e40c09b0a5a"
      },
      "outputs": [
        {
          "name": "stdout",
          "output_type": "stream",
          "text": [
            "{713, 718}\n",
            "{713, 718}\n"
          ]
        }
      ],
      "source": [
        "turmas_infinity = {713, 718}\n",
        "turmas_sabado = turmas_infinity.copy()\n",
        "\n",
        "print(turmas_infinity, turmas_sabado, sep='\\n')"
      ]
    },
    {
      "cell_type": "markdown",
      "metadata": {
        "id": "2Gp7L_e356qt"
      },
      "source": [
        "#### update( )"
      ]
    },
    {
      "cell_type": "markdown",
      "metadata": {
        "id": "K73qUvW0583z"
      },
      "source": [
        "Atualiza o conjunto, adicionando os elementos do conjunto informado no update\n",
        "\n",
        "__SINTAXE__\n",
        "\n",
        "`conjunto_2.update(conjunto_1)`"
      ]
    },
    {
      "cell_type": "code",
      "execution_count": null,
      "metadata": {
        "colab": {
          "base_uri": "https://localhost:8080/"
        },
        "id": "9-Nzmunm6QxJ",
        "outputId": "b6ec767f-a724-4d88-d40d-34c8609f93fb"
      },
      "outputs": [
        {
          "name": "stdout",
          "output_type": "stream",
          "text": [
            "{419, 713, 315, 718, 319}\n"
          ]
        }
      ],
      "source": [
        "minhas_turmas = {315, 319, 419}\n",
        "turmas_sabado = {713, 718}\n",
        "\n",
        "minhas_turmas.update(turmas_sabado)\n",
        "print(minhas_turmas)"
      ]
    },
    {
      "cell_type": "markdown",
      "metadata": {
        "id": "bGiqnZ_S7EOf"
      },
      "source": [
        "#### add( )"
      ]
    },
    {
      "cell_type": "markdown",
      "metadata": {
        "id": "EqRgs3i67GAf"
      },
      "source": [
        "Adiciona o elemento ao conjunto\n",
        "\n",
        "__SINTAXE__\n",
        "\n",
        "`conjunto.add(elemento)`"
      ]
    },
    {
      "cell_type": "code",
      "execution_count": null,
      "metadata": {
        "colab": {
          "base_uri": "https://localhost:8080/"
        },
        "id": "f87_NZX47SYQ",
        "outputId": "b754d103-c9ed-4574-ffe8-181a0c74a8f9"
      },
      "outputs": [
        {
          "data": {
            "text/plain": [
              "{713, 718}"
            ]
          },
          "execution_count": 45,
          "metadata": {},
          "output_type": "execute_result"
        }
      ],
      "source": [
        "turmas_sabado = {713}\n",
        "turmas_sabado.add(718)\n",
        "turmas_sabado"
      ]
    },
    {
      "cell_type": "markdown",
      "metadata": {
        "id": "h4Qb_Wt17bxD"
      },
      "source": [
        "#### remove( )"
      ]
    },
    {
      "cell_type": "markdown",
      "metadata": {
        "id": "wVeAQBQc7evH"
      },
      "source": [
        "Remove o elemento do conjunto. Uma exceção do tipo _KeyError_ poderá subir se o elemento a ser removido não estiver contido no conjunto\n",
        "\n",
        "__SINTAXE__\n",
        "\n",
        "`conjunto.remove(elemento)`"
      ]
    },
    {
      "cell_type": "code",
      "execution_count": null,
      "metadata": {
        "colab": {
          "base_uri": "https://localhost:8080/"
        },
        "id": "4NbBigp074AA",
        "outputId": "1a67f9c3-27e1-41a8-e42e-bf395c4e731a"
      },
      "outputs": [
        {
          "data": {
            "text/plain": [
              "{713, 718}"
            ]
          },
          "execution_count": 46,
          "metadata": {},
          "output_type": "execute_result"
        }
      ],
      "source": [
        "turmas_sabado = {718, 713, 419}\n",
        "turmas_sabado.remove(419)\n",
        "turmas_sabado"
      ]
    },
    {
      "cell_type": "code",
      "execution_count": null,
      "metadata": {
        "colab": {
          "base_uri": "https://localhost:8080/"
        },
        "id": "dOklX7dD8A1_",
        "outputId": "f4335ab8-22cc-4b43-9d83-66421c6cadc7"
      },
      "outputs": [
        {
          "name": "stdout",
          "output_type": "stream",
          "text": [
            "Não foi dessa vez...\n"
          ]
        },
        {
          "data": {
            "text/plain": [
              "{419, 713, 718}"
            ]
          },
          "execution_count": 48,
          "metadata": {},
          "output_type": "execute_result"
        }
      ],
      "source": [
        "turmas_sabado = {718, 713, 419}\n",
        "if 319 in turmas_sabado:\n",
        "  turmas_sabado.remove(319)\n",
        "else:\n",
        "  print('Não foi dessa vez...')\n",
        "turmas_sabado"
      ]
    },
    {
      "cell_type": "markdown",
      "metadata": {
        "id": "KGXhfFON8KC9"
      },
      "source": [
        "#### discard( )"
      ]
    },
    {
      "cell_type": "markdown",
      "metadata": {
        "id": "OZWbNsv48M1L"
      },
      "source": [
        "Remove o elemento do conjunto se ele estiver presente no mesmo\n",
        "\n",
        "__SINTAXE__\n",
        "\n",
        "`conjunto.discard(elemento)` "
      ]
    },
    {
      "cell_type": "code",
      "execution_count": null,
      "metadata": {
        "colab": {
          "base_uri": "https://localhost:8080/"
        },
        "id": "xvx3uxhI8Yer",
        "outputId": "b4638436-4ab7-461b-d66b-65c66584bec4"
      },
      "outputs": [
        {
          "data": {
            "text/plain": [
              "{713, 718}"
            ]
          },
          "execution_count": 49,
          "metadata": {},
          "output_type": "execute_result"
        }
      ],
      "source": [
        "turmas_sabado = {713, 718, 419}\n",
        "turmas_sabado.discard(419)\n",
        "turmas_sabado"
      ]
    },
    {
      "cell_type": "code",
      "execution_count": null,
      "metadata": {
        "colab": {
          "base_uri": "https://localhost:8080/"
        },
        "id": "AMjcgIhk8j8t",
        "outputId": "47b20e12-ef0b-4a81-c2cd-2835e225a489"
      },
      "outputs": [
        {
          "data": {
            "text/plain": [
              "{419, 713, 718}"
            ]
          },
          "execution_count": 50,
          "metadata": {},
          "output_type": "execute_result"
        }
      ],
      "source": [
        "turmas_sabado = {713, 718, 419}\n",
        "turmas_sabado.discard(319)\n",
        "turmas_sabado"
      ]
    },
    {
      "cell_type": "markdown",
      "metadata": {
        "id": "kfgiu3ir8vDq"
      },
      "source": [
        "Remove e retorna o elemento arbitrário do conjunto. Uma exceção do tipo _KeyError_ ocorrerá se o conjunto estiver vazio\n",
        "\n",
        "__SINTAXE__\n",
        "\n",
        "`conjunto.pop()`"
      ]
    },
    {
      "cell_type": "code",
      "execution_count": null,
      "metadata": {
        "colab": {
          "base_uri": "https://localhost:8080/"
        },
        "id": "wpjyfu9k9KcI",
        "outputId": "6c8d1a7e-f6dd-450e-83eb-2e381e31036d"
      },
      "outputs": [
        {
          "data": {
            "text/plain": [
              "{718}"
            ]
          },
          "execution_count": 52,
          "metadata": {},
          "output_type": "execute_result"
        }
      ],
      "source": [
        "turmas_sabado = {713, 718, 419}\n",
        "turmas_sabado.pop()\n",
        "turmas_sabado\n",
        "turmas_sabado.pop()\n",
        "turmas_sabado"
      ]
    },
    {
      "cell_type": "markdown",
      "metadata": {
        "id": "iC50oiDm9gRd"
      },
      "source": [
        "#### clear( )"
      ]
    },
    {
      "cell_type": "markdown",
      "metadata": {
        "id": "P96Fejqs9iBx"
      },
      "source": [
        "Remove todos os elementos do conjunto\n",
        "\n",
        "__SINTAXE__\n",
        "\n",
        "`conjunto.clear()`"
      ]
    },
    {
      "cell_type": "code",
      "execution_count": null,
      "metadata": {
        "colab": {
          "base_uri": "https://localhost:8080/"
        },
        "id": "Se6srbFK95b3",
        "outputId": "b973ef9e-8a80-4d3f-f0f2-2b75efe46584"
      },
      "outputs": [
        {
          "name": "stdout",
          "output_type": "stream",
          "text": [
            "{419, 713, 718, 315, 319}\n",
            "set()\n"
          ]
        }
      ],
      "source": [
        "minhas_turmas = {315, 319, 419, 713, 718}\n",
        "print(minhas_turmas)\n",
        "minhas_turmas.clear()\n",
        "print(minhas_turmas)"
      ]
    },
    {
      "cell_type": "markdown",
      "metadata": {
        "id": "ArDgmKDT-Vpw"
      },
      "source": [
        "## Hora de praticar!"
      ]
    },
    {
      "cell_type": "markdown",
      "metadata": {
        "id": "SETb96Md-YPc"
      },
      "source": [
        "### Atividade 1"
      ]
    },
    {
      "cell_type": "markdown",
      "metadata": {
        "id": "Vx1B56myAJNd"
      },
      "source": [
        "Leia os dados de um usuário - nome, sobrenome, idade, email - e imprima-os enumerando os mesmos."
      ]
    },
    {
      "cell_type": "markdown",
      "metadata": {
        "id": "fDlBO3CkQ8wm"
      },
      "source": [
        "\n",
        "#### Gabarito"
      ]
    },
    {
      "cell_type": "code",
      "execution_count": null,
      "metadata": {
        "colab": {
          "base_uri": "https://localhost:8080/"
        },
        "id": "JFr6jsqAJw6q",
        "outputId": "885ac73e-6b61-4e5f-d73a-b03d79a1eeb5"
      },
      "outputs": [
        {
          "name": "stdout",
          "output_type": "stream",
          "text": [
            "Nome: rafael\n",
            "Sobrenome: puyau\n",
            "Idade: 46\n",
            "Email: puyau@email.com\n",
            "-------------------------\n",
            "[(1, ('Nome', 'Rafael')), (2, ('Sobrenome', 'Puyau')), (3, ('Idade', 46)), (4, ('E-mail', 'puyau@email.com'))]\n",
            "-------------------------\n"
          ]
        }
      ],
      "source": [
        "dados = {}\n",
        "\n",
        "nome = input('Nome: ').strip().title()\n",
        "sobrenome = input('Sobrenome: ').strip().title()\n",
        "idade = int(input('Idade: '))\n",
        "email = input('Email: ').strip().lower()\n",
        "\n",
        "# Forma 1\n",
        "dados['Nome'] = nome\n",
        "dados['Sobrenome'] = sobrenome\n",
        "dados['Idade'] = idade\n",
        "dados['E-mail'] = email\n",
        "\n",
        "# # Forma 2\n",
        "# dados['Nome'] = input('Nome: ')\n",
        "# dados['Sobrenome'] = input('Sobrenome: ')\n",
        "# dados['Idade'] = int(input('Idade: '))\n",
        "# dados['E-mail'] = input('Email: ')\n",
        "\n",
        "# # Forma 3\n",
        "# dados['Nome'], dados['Sobrenome'], dados['Idade'], dados['Email'] = nome, sobrenome, idade, email\n",
        "\n",
        "# # Forma 4\n",
        "# dados = {\n",
        "#     'Nome' : input('Nome: '),\n",
        "#     'Sobrenome' : input('Sobrenome: '),\n",
        "#     'Idade' : int(input('Idade: ')),\n",
        "#     'E-mail' : input('Email: ')\n",
        "# }\n",
        "\n",
        "print('-' * 25)\n",
        "\n",
        "# print(list(enumerate(dados.items(), start=1)))\n",
        "\n",
        "print('-' * 25)\n",
        "\n",
        "for pos, dado in enumerate(dados.items(), start=1):\n",
        "  chave, valor = dado\n",
        "  print(f'{pos} - {chave} : {valor}')"
      ]
    },
    {
      "cell_type": "markdown",
      "metadata": {
        "id": "Rt-8ZkA4-klZ"
      },
      "source": [
        "### Atividade 2"
      ]
    },
    {
      "cell_type": "markdown",
      "metadata": {
        "id": "jSxOLhyeC_vf"
      },
      "source": [
        "Leia 4 notas de um aluno, calcule sua média e armazene em um dicionário as seguintes informações:\n",
        "\n",
        "* Nome do aluno\n",
        "* As 4 notas obtidas\n",
        "* Maior nota\n",
        "* Menor nota\n",
        "* Média\n",
        "* Situação\n",
        "  * Aprovado se média for maior ou igual a 7\n",
        "  * Reprovado se média for menor que 7\n",
        "\n",
        "Agora imprima as informações deste aluno na saída padrão"
      ]
    },
    {
      "cell_type": "markdown",
      "metadata": {
        "id": "0QDr1iKdRDCZ"
      },
      "source": [
        "#### Gabarito"
      ]
    },
    {
      "cell_type": "code",
      "execution_count": null,
      "metadata": {
        "id": "9w9hNMTtVGxf"
      },
      "outputs": [],
      "source": [
        "dados = {}\n",
        "notas = []\n",
        "\n",
        "nome = input('Nome do aluno: ').strip().title()\n",
        "\n",
        "for _ in range(4):\n",
        "  nota = float(input('Nota: '))\n",
        "  notas.append(nota)\n",
        "\n",
        "dados['Nome'] = nome\n",
        "dados['Notas'] = notas\n",
        "dados['Maior nota'] = max(notas)\n",
        "dados['Menor nota'] = min(notas)\n",
        "dados['Media'] = sum(notas) / len(notas)\n",
        "dados['Situacao'] = 'Aprovado' if dados['Media'] > 6.9 else 'Reprovado'\n",
        "\n",
        "# Forma 2 para popular a chave Situação\n",
        "# if dados['Media'] > 6.9:\n",
        "#   dados['Situacao'] = 'Aprovado'\n",
        "# else:\n",
        "#   dados['Situacao'] = 'Reprovado'\n",
        "\n",
        "print('-' * 20)\n",
        "\n",
        "print(f'O aluno {dados[\"Nome\"]} foi {dados[\"Situacao\"].lower()} com média {dados[\"Media\"]:.2f}')\n",
        "print(f'Notas obtidas pelo aluno: {dados[\"Notas\"]}')\n",
        "\n",
        "print(f'Média: {round(dados[\"Media\"], 2)}')\n",
        "print(f'Maior nota: {dados[\"Maior nota\"]}')\n",
        "print(f'Menor nota: {dados[\"Menor nota\"]}')\n"
      ]
    },
    {
      "cell_type": "markdown",
      "metadata": {
        "id": "-xkOglti-okg"
      },
      "source": [
        "### Atividade 3"
      ]
    },
    {
      "cell_type": "markdown",
      "metadata": {
        "id": "zE2W_W8WENeI"
      },
      "source": [
        "Refaça o programa anterior, mas desta vez, para 7 alunos e imprima na tela todos os dados dos alunos"
      ]
    },
    {
      "cell_type": "markdown",
      "metadata": {
        "id": "PGhicBUXtM9C"
      },
      "source": [
        "#### Gabarito"
      ]
    },
    {
      "cell_type": "code",
      "execution_count": null,
      "metadata": {
        "id": "CpQRZJpEg1Il"
      },
      "outputs": [],
      "source": [
        "turma = {}\n",
        "dados_aluno = {}\n",
        "notas = []\n",
        "\n",
        "for indice in range(1, 8):\n",
        "  nome_aluno = input('Nome do aluno: ').strip().title()\n",
        "  print(f'Coletando as informações de {nome_aluno}')\n",
        "  if len(notas) > 0:\n",
        "    notas.clear()\n",
        "  for n in range(1, 5):\n",
        "    nota = float(input(f'{n}ª nota: '))\n",
        "    notas.append(nota)\n",
        "  dados_aluno['Notas'] = notas.copy()\n",
        "  dados_aluno['Maior nota'] = max(notas)\n",
        "  dados_aluno['Menor nota'] = min(notas)\n",
        "  dados_aluno['Media'] = sum(notas) / len(notas)\n",
        "  dados_aluno['Situacao'] = 'Aprovado' if dados_aluno['Media'] > 6.9 else 'Reprovado'\n",
        "  turma[nome_aluno] = dados_aluno.copy()\n",
        "  dados_aluno.clear()\n",
        "\n",
        "print('=_-' * 30)\n",
        "\n",
        "for nome, dados in turma.items():\n",
        "  print(f'O aluno {nome} foi {dados[\"Situacao\"].lower()} com média {dados[\"Media\"]:.2f}')\n",
        "  print(f'Notas obtidas pelo aluno: {dados[\"Notas\"]}')\n",
        "\n",
        "  print(f'Média: {round(dados[\"Media\"], 2)}')\n",
        "  print(f'Maior nota: {dados[\"Maior nota\"]}')\n",
        "  print(f'Menor nota: {dados[\"Menor nota\"]}')\n",
        "\n",
        "  print('-' * 20)"
      ]
    },
    {
      "cell_type": "markdown",
      "metadata": {
        "id": "3i8-sqjT-ruW"
      },
      "source": [
        "### Atividade 4"
      ]
    },
    {
      "cell_type": "markdown",
      "metadata": {
        "id": "LVnF5gK8IY-r"
      },
      "source": [
        "Refaça o programa anterior e imprima a lista dos alunos aprovados em ordem decrescente da maior média para a menor"
      ]
    },
    {
      "cell_type": "markdown",
      "metadata": {
        "id": "5v5TSvxVx5ti"
      },
      "source": [
        "#### Gabarito"
      ]
    },
    {
      "cell_type": "code",
      "execution_count": null,
      "metadata": {
        "id": "i0CJQUpxtX46"
      },
      "outputs": [],
      "source": [
        "turma = {}\n",
        "dados_aluno = {}\n",
        "notas = []\n",
        "aprovados = []\n",
        "\n",
        "for indice in range(1, 8):\n",
        "  nome_aluno = input('Nome do aluno: ').strip().title()\n",
        "  print(f'Coletando as informações de {nome_aluno}')\n",
        "  if len(notas) > 0:\n",
        "    notas.clear()\n",
        "  for n in range(1, 5):\n",
        "    nota = float(input(f'{n}ª nota: '))\n",
        "    notas.append(nota)\n",
        "  dados_aluno['Notas'] = notas.copy()\n",
        "  dados_aluno['Maior nota'] = max(notas)\n",
        "  dados_aluno['Menor nota'] = min(notas)\n",
        "  dados_aluno['Media'] = sum(notas) / len(notas)\n",
        "  dados_aluno['Situacao'] = 'Aprovado' if dados_aluno['Media'] > 6.9 else 'Reprovado'\n",
        "  turma[nome_aluno] = dados_aluno.copy()\n",
        "  dados_aluno.clear()\n",
        "\n",
        "print('=_-' * 30)\n",
        "\n",
        "for nome, dados in turma.items():\n",
        "  if dados['Media'] > 6.99:\n",
        "    aprovados.append(tuple([dados['Media'], nome]))\n",
        "  \n",
        "aprovados.sort(reverse=True)\n",
        "\n",
        "print('APROVADOS', '---------', sep='\\n')\n",
        "for pos, dados_aluno in enumerate(aprovados, start=1):\n",
        "  media, aluno = dados_aluno\n",
        "  print(f'{pos} - {aluno} - Média: {media:.2f} ')"
      ]
    },
    {
      "cell_type": "markdown",
      "metadata": {
        "id": "RorWDkwQow2i"
      },
      "source": [
        "## Dicionário de Dados"
      ]
    },
    {
      "cell_type": "markdown",
      "metadata": {
        "id": "RMRAkO6zoz1c"
      },
      "source": [
        "* __hasheável__ : um objeto é hasheável se tem um valor de hash que nunca muda durante seu ciclo de vida"
      ]
    }
  ],
  "metadata": {
    "colab": {
      "name": "Dicionários e Conjuntos.ipynb",
      "provenance": []
    },
    "kernelspec": {
      "display_name": "Python 3.9.4 64-bit",
      "language": "python",
      "name": "python3"
    },
    "language_info": {
      "name": "python",
      "version": "3.9.4"
    },
    "vscode": {
      "interpreter": {
        "hash": "c29a95a84a8b9b3c706df023b2c9cf657762c83b5cc339e8f34a2ab98f622274"
      }
    }
  },
  "nbformat": 4,
  "nbformat_minor": 0
}
